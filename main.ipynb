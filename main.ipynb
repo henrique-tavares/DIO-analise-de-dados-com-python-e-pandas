{
 "cells": [
  {
   "cell_type": "code",
   "execution_count": 4,
   "source": [
    "# sorting algorithms\n",
    "from sort_me import sort\n",
    "# function to measure time\n",
    "from time import time\n",
    "# graph plotting library\n",
    "from matplotlib import pyplot as plt\n",
    "# random number generation\n",
    "from random import choices\n",
    "# CSV files handling\n",
    "import csv\n",
    "# Data analysis\n",
    "import pandas as pd"
   ],
   "outputs": [],
   "metadata": {}
  },
  {
   "cell_type": "code",
   "execution_count": 2,
   "source": [
    "LIST_SIZES = [1e1, 5e1, 1e2, 5e2, 1e3, 5e3, 1e4, 5e4, 1e5]\n",
    "SORTING_ALGORITMS = ['bubble', 'merge', 'quick']"
   ],
   "outputs": [],
   "metadata": {}
  },
  {
   "cell_type": "code",
   "execution_count": null,
   "source": [
    "with open('sorting_data.csv', 'w') as csv_file:\n",
    "    field_names = ['algorithm', 'entries', 'time']\n",
    "    csv_writer = csv.DictWriter(csv_file, fieldnames=field_names)\n",
    "    csv_writer.writeheader()\n",
    "\n",
    "    for size in LIST_SIZES:\n",
    "        random_list = choices(range(1e3),  k=size)\n",
    "        for algorithm in SORTING_ALGORITMS:\n",
    "            time_bubble = time()\n",
    "            _ = sort.bubble(random_list)\n",
    "            time_bubble = time() - time_bubble\n",
    "            \n",
    "            time_merge = time()\n",
    "            _ = sort.merge(random_list)\n",
    "            time_merge = time() - time_merge\n",
    "\n",
    "            time_quick = time()\n",
    "            _ = sort.quick(random_list)\n",
    "            time_quick = time() - time_quick\n",
    "\n",
    "            csv_writer.writerow({'algorithm': 'bubble', 'entries': int(size), 'time': time_bubble})\n",
    "            csv_writer.writerow({'algorithm': 'merge', 'entries': int(size), 'time': time_merge})\n",
    "            csv_writer.writerow({'algorithm': 'quick', 'entries': int(size), 'time': time_quick})"
   ],
   "outputs": [],
   "metadata": {}
  }
 ],
 "metadata": {
  "orig_nbformat": 4,
  "language_info": {
   "name": "python",
   "version": "3.8.10",
   "mimetype": "text/x-python",
   "codemirror_mode": {
    "name": "ipython",
    "version": 3
   },
   "pygments_lexer": "ipython3",
   "nbconvert_exporter": "python",
   "file_extension": ".py"
  },
  "kernelspec": {
   "name": "python3",
   "display_name": "Python 3.8.10 64-bit"
  },
  "interpreter": {
   "hash": "31f2aee4e71d21fbe5cf8b01ff0e069b9275f58929596ceb00d14d90e3e16cd6"
  }
 },
 "nbformat": 4,
 "nbformat_minor": 2
}